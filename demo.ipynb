{
 "cells": [
  {
   "cell_type": "code",
   "execution_count": 1,
   "metadata": {},
   "outputs": [
    {
     "name": "stdout",
     "output_type": "stream",
     "text": [
      "question='You need to guess a deep learning model. Start your first question now.', answer='Variational Audoencoder'\n",
      "testee=Is it a type of neural network?\n",
      "tester=[YES]\n",
      "testee=Is it used for image classification tasks?\n",
      "tester=[NO]\n",
      "testee=Is it used for natural language processing tasks?\n",
      "tester=[NO]\n",
      "testee=Is it used for reinforcement learning tasks?\n",
      "tester=[NO]\n",
      "testee=Is this model used for unsupervised learning tasks?\n",
      "tester=[YES]\n",
      "testee=Is it an autoencoder?\n",
      "tester=[YES]\n",
      "testee=Is it a variational autoencoder?\n",
      "tester=[GUESSED]\n"
     ]
    }
   ],
   "source": [
    "from langchain_openai import ChatOpenAI\n",
    "\n",
    "from simulation import puzzle_simulation, save_results\n",
    "\n",
    "\n",
    "llm = ChatOpenAI(model='gpt-4-0613', temperature=0.7, max_tokens=32)\n",
    "question = \"You need to guess a deep learning model. Start your first question now.\"\n",
    "answer = \"Variational Audoencoder\"\n",
    "results = puzzle_simulation(llm, question, answer, max_it=20)\n",
    "\n",
    "save_results(results)\n"
   ]
  }
 ],
 "metadata": {
  "kernelspec": {
   "display_name": "common",
   "language": "python",
   "name": "python3"
  },
  "language_info": {
   "codemirror_mode": {
    "name": "ipython",
    "version": 3
   },
   "file_extension": ".py",
   "mimetype": "text/x-python",
   "name": "python",
   "nbconvert_exporter": "python",
   "pygments_lexer": "ipython3",
   "version": "3.8.18"
  }
 },
 "nbformat": 4,
 "nbformat_minor": 2
}
